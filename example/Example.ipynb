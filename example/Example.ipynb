{
 "cells": [
  {
   "cell_type": "code",
   "execution_count": 1,
   "id": "d1b9e7cb",
   "metadata": {
    "scrolled": true
   },
   "outputs": [
    {
     "name": "stderr",
     "output_type": "stream",
     "text": [
      "2024-11-29 12:29:23.777826: I tensorflow/core/util/port.cc:113] oneDNN custom operations are on. You may see slightly different numerical results due to floating-point round-off errors from different computation orders. To turn them off, set the environment variable `TF_ENABLE_ONEDNN_OPTS=0`.\n",
      "2024-11-29 12:29:23.804765: E external/local_xla/xla/stream_executor/cuda/cuda_dnn.cc:9261] Unable to register cuDNN factory: Attempting to register factory for plugin cuDNN when one has already been registered\n",
      "2024-11-29 12:29:23.804789: E external/local_xla/xla/stream_executor/cuda/cuda_fft.cc:607] Unable to register cuFFT factory: Attempting to register factory for plugin cuFFT when one has already been registered\n",
      "2024-11-29 12:29:23.805531: E external/local_xla/xla/stream_executor/cuda/cuda_blas.cc:1515] Unable to register cuBLAS factory: Attempting to register factory for plugin cuBLAS when one has already been registered\n",
      "2024-11-29 12:29:23.810362: I tensorflow/core/platform/cpu_feature_guard.cc:182] This TensorFlow binary is optimized to use available CPU instructions in performance-critical operations.\n",
      "To enable the following instructions: AVX2 AVX_VNNI FMA, in other operations, rebuild TensorFlow with the appropriate compiler flags.\n",
      "2024-11-29 12:29:24.336843: W tensorflow/compiler/tf2tensorrt/utils/py_utils.cc:38] TF-TRT Warning: Could not find TensorRT\n",
      "2024-11-29 12:29:24.900201: I external/local_xla/xla/stream_executor/cuda/cuda_executor.cc:901] successful NUMA node read from SysFS had negative value (-1), but there must be at least one NUMA node, so returning NUMA node zero. See more at https://github.com/torvalds/linux/blob/v6.0/Documentation/ABI/testing/sysfs-bus-pci#L344-L355\n",
      "2024-11-29 12:29:24.934972: I external/local_xla/xla/stream_executor/cuda/cuda_executor.cc:901] successful NUMA node read from SysFS had negative value (-1), but there must be at least one NUMA node, so returning NUMA node zero. See more at https://github.com/torvalds/linux/blob/v6.0/Documentation/ABI/testing/sysfs-bus-pci#L344-L355\n",
      "2024-11-29 12:29:24.935138: I external/local_xla/xla/stream_executor/cuda/cuda_executor.cc:901] successful NUMA node read from SysFS had negative value (-1), but there must be at least one NUMA node, so returning NUMA node zero. See more at https://github.com/torvalds/linux/blob/v6.0/Documentation/ABI/testing/sysfs-bus-pci#L344-L355\n",
      "2024-11-29 12:29:24.936234: I external/local_xla/xla/stream_executor/cuda/cuda_executor.cc:901] successful NUMA node read from SysFS had negative value (-1), but there must be at least one NUMA node, so returning NUMA node zero. See more at https://github.com/torvalds/linux/blob/v6.0/Documentation/ABI/testing/sysfs-bus-pci#L344-L355\n",
      "2024-11-29 12:29:24.936348: I external/local_xla/xla/stream_executor/cuda/cuda_executor.cc:901] successful NUMA node read from SysFS had negative value (-1), but there must be at least one NUMA node, so returning NUMA node zero. See more at https://github.com/torvalds/linux/blob/v6.0/Documentation/ABI/testing/sysfs-bus-pci#L344-L355\n",
      "2024-11-29 12:29:24.936418: I external/local_xla/xla/stream_executor/cuda/cuda_executor.cc:901] successful NUMA node read from SysFS had negative value (-1), but there must be at least one NUMA node, so returning NUMA node zero. See more at https://github.com/torvalds/linux/blob/v6.0/Documentation/ABI/testing/sysfs-bus-pci#L344-L355\n",
      "2024-11-29 12:29:24.991180: I external/local_xla/xla/stream_executor/cuda/cuda_executor.cc:901] successful NUMA node read from SysFS had negative value (-1), but there must be at least one NUMA node, so returning NUMA node zero. See more at https://github.com/torvalds/linux/blob/v6.0/Documentation/ABI/testing/sysfs-bus-pci#L344-L355\n",
      "2024-11-29 12:29:24.991351: I external/local_xla/xla/stream_executor/cuda/cuda_executor.cc:901] successful NUMA node read from SysFS had negative value (-1), but there must be at least one NUMA node, so returning NUMA node zero. See more at https://github.com/torvalds/linux/blob/v6.0/Documentation/ABI/testing/sysfs-bus-pci#L344-L355\n",
      "2024-11-29 12:29:24.991436: I external/local_xla/xla/stream_executor/cuda/cuda_executor.cc:901] successful NUMA node read from SysFS had negative value (-1), but there must be at least one NUMA node, so returning NUMA node zero. See more at https://github.com/torvalds/linux/blob/v6.0/Documentation/ABI/testing/sysfs-bus-pci#L344-L355\n",
      "2024-11-29 12:29:24.991507: I tensorflow/core/common_runtime/gpu/gpu_device.cc:1929] Created device /job:localhost/replica:0/task:0/device:GPU:0 with 2136 MB memory:  -> device: 0, name: NVIDIA GeForce RTX 4070 Laptop GPU, pci bus id: 0000:01:00.0, compute capability: 8.9\n"
     ]
    }
   ],
   "source": [
    "import lips\n",
    "from lips import Particles, Particle\n",
    "import numpy\n",
    "from syngular import Field\n",
    "from pyadic.finite_field import ModP, rationalise\n",
    "\n",
    "from bgtrees.currents import J_μ, another_j\n",
    "from bgtrees.finite_gpufields.finite_fields_tf import FiniteField\n",
    "from bgtrees.finite_gpufields.operations import ff_dot_product\n",
    "from bgtrees.metric_and_verticies import η\n",
    "from bgtrees.settings import settings\n",
    "from bgtrees.states import ε1, ε2, ε3, ε3c, ε4, ε4c, εxs, εxcs\n",
    "from bgtrees.phase_space import random_phase_space_point, μ2\n",
    "\n",
    "lips.spinor_convention = \"asymmetric\"\n",
    "chosenP = 2**31 - 19\n",
    "NTEST = 25\n",
    "settings.run_tf_eagerly()\n",
    "\n",
    "\n",
    "numpy.set_printoptions(threshold=numpy.inf, linewidth=numpy.inf)"
   ]
  },
  {
   "cell_type": "code",
   "execution_count": 2,
   "id": "a5a27efa",
   "metadata": {
    "code_folding": []
   },
   "outputs": [],
   "source": [
    "def _generate_input(chosen_field, helconf, n=25):\n",
    "    \"\"\"Generate the momentum and polarization arrays using lips\n",
    "    Returns the momentum and polarization as numpy array and the\n",
    "    list of lips particle_lists\n",
    "    \"\"\"\n",
    "    lmoms = []\n",
    "    lpols = []\n",
    "    lPs = []\n",
    "\n",
    "    for seed in range(n):\n",
    "        particle_list = Particles(len(helconf), field=chosen_field, seed=seed)\n",
    "        particle_list = Particles([Particle(entry.four_mom, field=chosen_field) for entry in particle_list],\n",
    "                                  field=chosen_field)\n",
    "        particle_list.helconf = helconf\n",
    "\n",
    "        # Prepare hte momentum array\n",
    "        lm = []\n",
    "        for oParticle in particle_list:\n",
    "            lm.append(numpy.block([oParticle.four_mom, numpy.array([0, 0, 0, 0])]))\n",
    "        lmoms.append(numpy.array(lm))\n",
    "\n",
    "        # Prepare the polarization array\n",
    "        lp = []\n",
    "        momχ = particle_list.oRefVec.four_mom\n",
    "        for index, helconf_index in enumerate(helconf):\n",
    "            if helconf_index == \"1\" or helconf_index == \"m\":\n",
    "                tmp = [ε1(lm[index], momχ, chosen_field)]\n",
    "                # tmp = [εm(particle_list, index + 1), numpy.array([0, 0, 0, 0])]\n",
    "            elif helconf_index == \"2\" or helconf_index == \"p\":\n",
    "                tmp = [ε2(lm[index], momχ, chosen_field)]\n",
    "                # tmp = [εp(particle_list, index + 1), numpy.array([0, 0, 0, 0])]\n",
    "            elif helconf_index == \"3\":\n",
    "                tmp = [ε3(lm[index], momχ, chosen_field)]\n",
    "                # tmp = [numpy.array([0, 0, 0, 0, 0, 0, 1, 0])]\n",
    "            elif helconf_index == \"4\":\n",
    "                tmp = [ε4(lm[index])]\n",
    "            else:\n",
    "                raise Exception(f\"Polarization request not understood for leg {index}: {helconf_index}.\")\n",
    "            lp.append(numpy.block(tmp))\n",
    "\n",
    "        lpols.append(numpy.array(lp))\n",
    "        lPs.append(particle_list)\n",
    "\n",
    "    lmoms = numpy.array(lmoms)\n",
    "    lpols = numpy.array(lpols)\n",
    "\n",
    "    return lmoms, lpols, lPs"
   ]
  },
  {
   "cell_type": "code",
   "execution_count": 3,
   "id": "866fb6fe",
   "metadata": {},
   "outputs": [],
   "source": [
    "chosen_field = Field(\"finite field\", chosenP, 1)\n",
    "helconf = \"ppmmm\"\n",
    "verbose = False"
   ]
  },
  {
   "cell_type": "code",
   "execution_count": 4,
   "id": "cffae7e9",
   "metadata": {},
   "outputs": [],
   "source": [
    "lmoms, lpols, lPs = _generate_input(chosen_field, helconf)"
   ]
  },
  {
   "cell_type": "code",
   "execution_count": 5,
   "id": "34c8a9ab",
   "metadata": {},
   "outputs": [
    {
     "data": {
      "text/plain": [
       "8"
      ]
     },
     "execution_count": 5,
     "metadata": {},
     "output_type": "execute_result"
    }
   ],
   "source": [
    "D = lmoms.shape[-1]\n",
    "D"
   ]
  },
  {
   "cell_type": "code",
   "execution_count": 6,
   "id": "d37ad6ce",
   "metadata": {
    "scrolled": true
   },
   "outputs": [
    {
     "data": {
      "text/plain": [
       "True"
      ]
     },
     "execution_count": 6,
     "metadata": {},
     "output_type": "execute_result"
    }
   ],
   "source": [
    "numpy.all(numpy.einsum(\"rim->rm\", lmoms) == 0)"
   ]
  },
  {
   "cell_type": "code",
   "execution_count": 7,
   "id": "73c6a06d",
   "metadata": {},
   "outputs": [
    {
     "data": {
      "text/plain": [
       "True"
      ]
     },
     "execution_count": 7,
     "metadata": {},
     "output_type": "execute_result"
    }
   ],
   "source": [
    "numpy.all(numpy.einsum(\"rim,mn,rin->ri\", lmoms, η(D), lpols) == 0)"
   ]
  },
  {
   "cell_type": "code",
   "execution_count": 8,
   "id": "a0c93a15",
   "metadata": {},
   "outputs": [
    {
     "data": {
      "text/plain": [
       "array([310719489 % 2147483629, 326776592 % 2147483629, 846490505 % 2147483629, 2038260253 % 2147483629, 1880010641 % 2147483629, 2026157625 % 2147483629, 2096906135 % 2147483629, 1388204694 % 2147483629, 1101718649 % 2147483629, 208358911 % 2147483629, 1730623862 % 2147483629, 476648099 % 2147483629, 419416627 % 2147483629, 2117053082 % 2147483629, 218913188 % 2147483629, 1250846245 % 2147483629, 929151615 % 2147483629, 1225836576 % 2147483629, 724363617 % 2147483629, 45084431 % 2147483629, 8777496 % 2147483629, 1312329228 % 2147483629, 485716476 % 2147483629, 1054361230 % 2147483629, 519506892 % 2147483629], dtype=object)"
      ]
     },
     "execution_count": 8,
     "metadata": {},
     "output_type": "execute_result"
    }
   ],
   "source": [
    "res_cpu = numpy.einsum(\"rm,rm->r\", lpols[:, 0], J_μ(lmoms[:, 1:], lpols[:, 1:], put_propagator=False, verbose=verbose))\n",
    "res_cpu"
   ]
  },
  {
   "cell_type": "code",
   "execution_count": 9,
   "id": "8919a416",
   "metadata": {
    "scrolled": false
   },
   "outputs": [
    {
     "data": {
      "text/plain": [
       "FiniteField(n=<tf.Tensor: shape=(25,), dtype=int64, numpy=array([ 310719489,  326776592,  846490505, 2038260253, 1880010641, 2026157625, 2096906135, 1388204694, 1101718649,  208358911, 1730623862,  476648099,  419416627, 2117053082,  218913188, 1250846245,  929151615, 1225836576,  724363617,   45084431,    8777496, 1312329228,  485716476, 1054361230,  519506892])>, p=2147483629)"
      ]
     },
     "execution_count": 9,
     "metadata": {},
     "output_type": "execute_result"
    }
   ],
   "source": [
    "prev_setting = settings.use_gpu\n",
    "settings.use_gpu = True\n",
    "\n",
    "# Now make it into finite Finite Fields containers\n",
    "def _make_to_container(array_of_arrays, p):\n",
    "    \"\"\"Make any array of arrays or list of list into a finite field container\"\"\"\n",
    "    return FiniteField(array_of_arrays.astype(int), p)\n",
    "\n",
    "ff_moms = _make_to_container(lmoms, chosenP)\n",
    "ff_pols = _make_to_container(lpols, chosenP)\n",
    "\n",
    "res_gpu = another_j(ff_moms[:, 1:], ff_pols[:, 1:], put_propagator=False, verbose=verbose)\n",
    "res_gpu = ff_dot_product(ff_pols[:, 0], res_gpu)\n",
    "\n",
    "settings.use_gpu = prev_setting\n",
    "res_gpu"
   ]
  },
  {
   "cell_type": "code",
   "execution_count": 10,
   "id": "abe4750a",
   "metadata": {
    "scrolled": true
   },
   "outputs": [
    {
     "data": {
      "text/plain": [
       "array([310719489 % 2147483629, 326776592 % 2147483629, 846490505 % 2147483629, 2038260253 % 2147483629, 1880010641 % 2147483629, 2026157625 % 2147483629, 2096906135 % 2147483629, 1388204694 % 2147483629, 1101718649 % 2147483629, 208358911 % 2147483629, 1730623862 % 2147483629, 476648099 % 2147483629, 419416627 % 2147483629, 2117053082 % 2147483629, 218913188 % 2147483629, 1250846245 % 2147483629, 929151615 % 2147483629, 1225836576 % 2147483629, 724363617 % 2147483629, 45084431 % 2147483629, 8777496 % 2147483629, 1312329228 % 2147483629, 485716476 % 2147483629, 1054361230 % 2147483629, 519506892 % 2147483629], dtype=object)"
      ]
     },
     "execution_count": 10,
     "metadata": {},
     "output_type": "execute_result"
    }
   ],
   "source": [
    "res_cpu = numpy.einsum(\"rm,rm->r\", lpols[:, 0], J_μ(lmoms[:, 1:], lpols[:, 1:], put_propagator=False, verbose=verbose))\n",
    "res_cpu"
   ]
  },
  {
   "cell_type": "code",
   "execution_count": 11,
   "id": "b1535099",
   "metadata": {
    "scrolled": true
   },
   "outputs": [
    {
     "data": {
      "text/plain": [
       "array([310719489 % 2147483629, 326776592 % 2147483629, 846490505 % 2147483629, 2038260253 % 2147483629, 1880010641 % 2147483629, 2026157625 % 2147483629, 2096906135 % 2147483629, 1388204694 % 2147483629, 1101718649 % 2147483629, 208358911 % 2147483629, 1730623862 % 2147483629, 476648099 % 2147483629, 419416627 % 2147483629, 2117053082 % 2147483629, 218913188 % 2147483629, 1250846245 % 2147483629, 929151615 % 2147483629, 1225836576 % 2147483629, 724363617 % 2147483629, 45084431 % 2147483629, 8777496 % 2147483629, 1312329228 % 2147483629, 485716476 % 2147483629, 1054361230 % 2147483629, 519506892 % 2147483629], dtype=object)"
      ]
     },
     "execution_count": 11,
     "metadata": {},
     "output_type": "execute_result"
    }
   ],
   "source": [
    "res_analytic = numpy.array([oPs(\"(2[12]^4)/([12][23][34][45][51])\") for oPs in lPs])\n",
    "res_analytic"
   ]
  },
  {
   "cell_type": "code",
   "execution_count": 12,
   "id": "435b6af5",
   "metadata": {},
   "outputs": [],
   "source": [
    "assert numpy.all(res_gpu.values.numpy().astype(int) == res_cpu.astype(int))\n",
    "assert numpy.all(res_cpu.astype(int) == res_analytic.astype(int))"
   ]
  },
  {
   "cell_type": "code",
   "execution_count": null,
   "id": "812cbe96",
   "metadata": {},
   "outputs": [],
   "source": []
  },
  {
   "cell_type": "markdown",
   "id": "758d6fab",
   "metadata": {},
   "source": [
    "### D-Dim"
   ]
  },
  {
   "cell_type": "code",
   "execution_count": 13,
   "id": "6335b26f",
   "metadata": {},
   "outputs": [],
   "source": [
    "from bgtrees.phase_space import random_phase_space_point\n",
    "from bgtrees.states import all_states"
   ]
  },
  {
   "cell_type": "code",
   "execution_count": 14,
   "id": "de2db26d",
   "metadata": {},
   "outputs": [],
   "source": [
    "m, D, field = 5, 6, Field(\"finite field\", 2 ** 31 - 19, 1)\n",
    "seed = 0"
   ]
  },
  {
   "cell_type": "code",
   "execution_count": 15,
   "id": "49e70380",
   "metadata": {},
   "outputs": [],
   "source": [
    "momsD = random_phase_space_point(m, D, field, seed=seed)\n",
    "momχ = random_phase_space_point(2, 4, field, seed=seed)[0]  # 4D ref. vector"
   ]
  },
  {
   "cell_type": "code",
   "execution_count": 16,
   "id": "02d20d0e",
   "metadata": {
    "scrolled": true
   },
   "outputs": [
    {
     "data": {
      "text/plain": [
       "array([[1255322025 % 2147483629, 1453418611 % 2147483629, 177339846 % 2147483629, 1335140157 % 2147483629, 64765774 % 2147483629, 1153431767 % 2147483629],\n",
       "       [1657510784 % 2147483629, 1078057786 % 2147483629, 1636120221 % 2147483629, 2048396007 % 2147483629, 561647074 % 2147483629, 229515594 % 2147483629],\n",
       "       [1901979081 % 2147483629, 1900031454 % 2147483629, 1242039032 % 2147483629, 2140486650 % 2147483629, 1269667747 % 2147483629, 337992838 % 2147483629],\n",
       "       [1016715231 % 2147483629, 213228041 % 2147483629, 1337185161 % 2147483629, 151578068 % 2147483629, 2143544975 % 2147483629, 1533310220 % 2147483629],\n",
       "       [610923766 % 2147483629, 1797714995 % 2147483629, 2049766627 % 2147483629, 766850005 % 2147483629, 255341688 % 2147483629, 1040716839 % 2147483629]], dtype=object)"
      ]
     },
     "execution_count": 16,
     "metadata": {},
     "output_type": "execute_result"
    }
   ],
   "source": [
    "momsD"
   ]
  },
  {
   "cell_type": "code",
   "execution_count": 17,
   "id": "df95506a",
   "metadata": {},
   "outputs": [],
   "source": [
    "lstates = [all_states(momD, momχ, field) for momD in momsD]"
   ]
  },
  {
   "cell_type": "code",
   "execution_count": 18,
   "id": "eb3ab5b7",
   "metadata": {},
   "outputs": [],
   "source": [
    "states_indices = [0, 0, 0, 1, 1]"
   ]
  },
  {
   "cell_type": "code",
   "execution_count": 19,
   "id": "6a984e3e",
   "metadata": {},
   "outputs": [],
   "source": [
    "lpols = [_states[index] for (_states, _states_conj), index in zip(lstates, states_indices)]"
   ]
  },
  {
   "cell_type": "code",
   "execution_count": 20,
   "id": "a2b020ba",
   "metadata": {
    "scrolled": true
   },
   "outputs": [
    {
     "data": {
      "text/plain": [
       "[array([1206483534 % 2147483629, 77402942 % 2147483629, 1930078495 % 2147483629, 452191699 % 2147483629, 0 % 2147483629, 0 % 2147483629], dtype=object),\n",
       " array([878811720 % 2147483629, 1395612093 % 2147483629, 1568602306 % 2147483629, 1431524162 % 2147483629, 0 % 2147483629, 0 % 2147483629], dtype=object),\n",
       " array([1327066424 % 2147483629, 1123048166 % 2147483629, 1848981104 % 2147483629, 547808840 % 2147483629, 0 % 2147483629, 0 % 2147483629], dtype=object),\n",
       " array([714075348 % 2147483629, 621132490 % 2147483629, 891320805 % 2147483629, 1907307406 % 2147483629, 0 % 2147483629, 0 % 2147483629], dtype=object),\n",
       " array([1180475597 % 2147483629, 207703732 % 2147483629, 1171855727 % 2147483629, 1010690015 % 2147483629, 0 % 2147483629, 0 % 2147483629], dtype=object)]"
      ]
     },
     "execution_count": 20,
     "metadata": {},
     "output_type": "execute_result"
    }
   ],
   "source": [
    "lpols"
   ]
  },
  {
   "cell_type": "code",
   "execution_count": 21,
   "id": "b2a9591e",
   "metadata": {},
   "outputs": [],
   "source": [
    "# just 1 replica\n",
    "lmoms = numpy.array([momsD])\n",
    "lpols = numpy.array([lpols])"
   ]
  },
  {
   "cell_type": "code",
   "execution_count": null,
   "id": "b58dd6f1",
   "metadata": {},
   "outputs": [],
   "source": []
  },
  {
   "cell_type": "code",
   "execution_count": 22,
   "id": "6f1617bc",
   "metadata": {},
   "outputs": [
    {
     "data": {
      "text/plain": [
       "6"
      ]
     },
     "execution_count": 22,
     "metadata": {},
     "output_type": "execute_result"
    }
   ],
   "source": [
    "D = lmoms.shape[-1]\n",
    "D"
   ]
  },
  {
   "cell_type": "code",
   "execution_count": 23,
   "id": "06204c1b",
   "metadata": {
    "scrolled": true
   },
   "outputs": [
    {
     "data": {
      "text/plain": [
       "True"
      ]
     },
     "execution_count": 23,
     "metadata": {},
     "output_type": "execute_result"
    }
   ],
   "source": [
    "numpy.all(numpy.einsum(\"rim->rm\", lmoms) == 0)"
   ]
  },
  {
   "cell_type": "code",
   "execution_count": 24,
   "id": "ec13c167",
   "metadata": {},
   "outputs": [
    {
     "data": {
      "text/plain": [
       "True"
      ]
     },
     "execution_count": 24,
     "metadata": {},
     "output_type": "execute_result"
    }
   ],
   "source": [
    "numpy.all(numpy.einsum(\"rim,mn,rin->ri\", lmoms, η(D), lpols) == 0)"
   ]
  },
  {
   "cell_type": "code",
   "execution_count": 25,
   "id": "842104c9",
   "metadata": {},
   "outputs": [
    {
     "data": {
      "text/plain": [
       "array([1200294789 % 2147483629], dtype=object)"
      ]
     },
     "execution_count": 25,
     "metadata": {},
     "output_type": "execute_result"
    }
   ],
   "source": [
    "res_cpu = numpy.einsum(\"rm,rm->r\", lpols[:, 0], J_μ(lmoms[:, 1:], lpols[:, 1:], put_propagator=False, verbose=verbose))\n",
    "res_cpu"
   ]
  },
  {
   "cell_type": "code",
   "execution_count": 26,
   "id": "81bfd11f",
   "metadata": {
    "scrolled": false
   },
   "outputs": [
    {
     "data": {
      "text/plain": [
       "FiniteField(n=<tf.Tensor: shape=(1,), dtype=int64, numpy=array([1200294789])>, p=2147483629)"
      ]
     },
     "execution_count": 26,
     "metadata": {},
     "output_type": "execute_result"
    }
   ],
   "source": [
    "prev_setting = settings.use_gpu\n",
    "settings.use_gpu = True\n",
    "\n",
    "# Now make it into finite Finite Fields containers\n",
    "def _make_to_container(array_of_arrays, p):\n",
    "    \"\"\"Make any array of arrays or list of list into a finite field container\"\"\"\n",
    "    return FiniteField(array_of_arrays.astype(int), p)\n",
    "\n",
    "ff_moms = _make_to_container(lmoms, chosenP)\n",
    "ff_pols = _make_to_container(lpols, chosenP)\n",
    "\n",
    "res_gpu = another_j(ff_moms[:, 1:], ff_pols[:, 1:], put_propagator=False, verbose=verbose)\n",
    "res_gpu = ff_dot_product(ff_pols[:, 0], res_gpu)\n",
    "\n",
    "settings.use_gpu = prev_setting\n",
    "res_gpu"
   ]
  },
  {
   "cell_type": "code",
   "execution_count": null,
   "id": "c665730b",
   "metadata": {},
   "outputs": [],
   "source": []
  }
 ],
 "metadata": {
  "kernelspec": {
   "display_name": "Python 3 (ipykernel)",
   "language": "python",
   "name": "python3"
  },
  "language_info": {
   "codemirror_mode": {
    "name": "ipython",
    "version": 3
   },
   "file_extension": ".py",
   "mimetype": "text/x-python",
   "name": "python",
   "nbconvert_exporter": "python",
   "pygments_lexer": "ipython3",
   "version": "3.10.12"
  },
  "toc": {
   "base_numbering": 1,
   "nav_menu": {},
   "number_sections": true,
   "sideBar": true,
   "skip_h1_title": true,
   "title_cell": "Table of Contents",
   "title_sidebar": "Contents",
   "toc_cell": false,
   "toc_position": {},
   "toc_section_display": true,
   "toc_window_display": false
  }
 },
 "nbformat": 4,
 "nbformat_minor": 5
}
