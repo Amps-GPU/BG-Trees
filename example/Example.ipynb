{
 "cells": [
  {
   "cell_type": "code",
   "execution_count": null,
   "id": "d1b9e7cb",
   "metadata": {
    "scrolled": true
   },
   "outputs": [],
   "source": [
    "import lips\n",
    "from lips import Particles\n",
    "import numpy\n",
    "from syngular import Field\n",
    "from pyadic.finite_field import ModP, rationalise\n",
    "\n",
    "from bgtrees.currents import J_μ, another_j\n",
    "from bgtrees.finite_gpufields.finite_fields_tf import FiniteField\n",
    "from bgtrees.finite_gpufields.operations import ff_dot_product\n",
    "from bgtrees.metric_and_verticies import η\n",
    "from bgtrees.settings import settings\n",
    "from bgtrees.states import εm, εp\n",
    "\n",
    "lips.spinor_convention = \"asymmetric\"\n",
    "chosenP = 2**31 - 19\n",
    "NTEST = 25\n",
    "settings.run_tf_eagerly()"
   ]
  },
  {
   "cell_type": "code",
   "execution_count": null,
   "id": "a5a27efa",
   "metadata": {
    "code_folding": []
   },
   "outputs": [],
   "source": [
    "def _generate_input(chosen_field, helconf, n=25):\n",
    "    \"\"\"Generate the momentum and polarization arrays using lips\n",
    "    Returns the momentum and polarization as numpy array and the\n",
    "    list of lips particle_lists\n",
    "    \"\"\"\n",
    "    lmoms = []\n",
    "    lpols = []\n",
    "    lPs = []\n",
    "\n",
    "    for seed in range(n):\n",
    "        particle_list = Particles(len(helconf), field=chosen_field, seed=seed)\n",
    "        particle_list.helconf = helconf\n",
    "\n",
    "        # Prepare hte momentum array\n",
    "        lm = []\n",
    "        for oParticle in particle_list:\n",
    "            lm.append(numpy.block([oParticle.four_mom, numpy.array([0, 0, 0, 0])]))\n",
    "        lmoms.append(numpy.array(lm))\n",
    "\n",
    "        # Prepare the polarization array\n",
    "        lp = []\n",
    "        for index, helconf_index in enumerate(helconf):\n",
    "            if helconf_index == \"p\":\n",
    "                tmp = [εp(particle_list, index + 1), numpy.array([0, 0, 0, 0])]\n",
    "            elif helconf_index == \"m\":\n",
    "                tmp = [εm(particle_list, index + 1), numpy.array([0, 0, 0, 0])]\n",
    "            elif helconf_index == \"x\":\n",
    "                tmp = [numpy.array([0, 0, 0, 0, 0, 0, 1, 0])]\n",
    "            else:\n",
    "                tmp = None\n",
    "            lp.append(numpy.block(tmp))\n",
    "\n",
    "        lpols.append(numpy.array(lp))\n",
    "        lPs.append(particle_list)\n",
    "\n",
    "    lmoms = numpy.array(lmoms)\n",
    "    lpols = numpy.array(lpols)\n",
    "\n",
    "    return lmoms, lpols, lPs"
   ]
  },
  {
   "cell_type": "code",
   "execution_count": null,
   "id": "866fb6fe",
   "metadata": {},
   "outputs": [],
   "source": [
    "chosen_field = Field(\"finite field\", chosenP, 1)\n",
    "helconf = \"ppmmm\"\n",
    "verbose = False"
   ]
  },
  {
   "cell_type": "code",
   "execution_count": null,
   "id": "cffae7e9",
   "metadata": {},
   "outputs": [],
   "source": [
    "lmoms, lpols, lPs = _generate_input(chosen_field, helconf)"
   ]
  },
  {
   "cell_type": "code",
   "execution_count": null,
   "id": "34c8a9ab",
   "metadata": {},
   "outputs": [],
   "source": [
    "D = lmoms.shape[-1]\n",
    "D"
   ]
  },
  {
   "cell_type": "code",
   "execution_count": null,
   "id": "d37ad6ce",
   "metadata": {},
   "outputs": [],
   "source": [
    "numpy.all(numpy.einsum(\"rim->rm\", lmoms) == 0)"
   ]
  },
  {
   "cell_type": "code",
   "execution_count": null,
   "id": "73c6a06d",
   "metadata": {},
   "outputs": [],
   "source": [
    "numpy.all(numpy.einsum(\"rim,mn,rin->ri\", lmoms, η(D), lpols) == 0)"
   ]
  },
  {
   "cell_type": "code",
   "execution_count": null,
   "id": "a0c93a15",
   "metadata": {},
   "outputs": [],
   "source": [
    "res_cpu = numpy.einsum(\"rm,rm->r\", lpols[:, 0], J_μ(lmoms[:, 1:], lpols[:, 1:], put_propagator=False, verbose=verbose))\n",
    "res_cpu"
   ]
  },
  {
   "cell_type": "code",
   "execution_count": null,
   "id": "8919a416",
   "metadata": {},
   "outputs": [],
   "source": [
    "prev_setting = settings.use_gpu\n",
    "settings.use_gpu = True\n",
    "\n",
    "# Now make it into finite Finite Fields containers\n",
    "def _make_to_container(array_of_arrays, p):\n",
    "    \"\"\"Make any array of arrays or list of list into a finite field container\"\"\"\n",
    "    return FiniteField(array_of_arrays.astype(int), p)\n",
    "\n",
    "ff_moms = _make_to_container(lmoms, chosenP)\n",
    "ff_pols = _make_to_container(lpols, chosenP)\n",
    "\n",
    "res_gpu = another_j(ff_moms[:, 1:], ff_pols[:, 1:], put_propagator=False, verbose=verbose)\n",
    "res_gpu = ff_dot_product(ff_pols[:, 0], res_gpu)\n",
    "\n",
    "settings.use_gpu = prev_setting\n",
    "res_gpu"
   ]
  },
  {
   "cell_type": "code",
   "execution_count": null,
   "id": "abe4750a",
   "metadata": {},
   "outputs": [],
   "source": [
    "res_cpu = numpy.einsum(\"rm,rm->r\", lpols[:, 0], J_μ(lmoms[:, 1:], lpols[:, 1:], put_propagator=False, verbose=verbose))\n",
    "res_cpu"
   ]
  },
  {
   "cell_type": "code",
   "execution_count": null,
   "id": "b1535099",
   "metadata": {
    "scrolled": true
   },
   "outputs": [],
   "source": [
    "res_analytic = numpy.array([oPs(\"(-16[12]^4)/([12][23][34][45][51])\") for oPs in lPs])\n",
    "res_analytic"
   ]
  },
  {
   "cell_type": "code",
   "execution_count": null,
   "id": "435b6af5",
   "metadata": {},
   "outputs": [],
   "source": [
    "assert numpy.all(res_gpu.values.numpy().astype(int) == res_cpu.astype(int))\n",
    "assert numpy.all(res_cpu.astype(int) == res_analytic.astype(int))"
   ]
  },
  {
   "cell_type": "code",
   "execution_count": null,
   "id": "812cbe96",
   "metadata": {},
   "outputs": [],
   "source": []
  }
 ],
 "metadata": {
  "kernelspec": {
   "display_name": "Python 3 (ipykernel)",
   "language": "python",
   "name": "python3"
  },
  "language_info": {
   "codemirror_mode": {
    "name": "ipython",
    "version": 3
   },
   "file_extension": ".py",
   "mimetype": "text/x-python",
   "name": "python",
   "nbconvert_exporter": "python",
   "pygments_lexer": "ipython3",
   "version": "3.10.12"
  },
  "toc": {
   "base_numbering": 1,
   "nav_menu": {},
   "number_sections": true,
   "sideBar": true,
   "skip_h1_title": true,
   "title_cell": "Table of Contents",
   "title_sidebar": "Contents",
   "toc_cell": false,
   "toc_position": {},
   "toc_section_display": true,
   "toc_window_display": false
  }
 },
 "nbformat": 4,
 "nbformat_minor": 5
}
